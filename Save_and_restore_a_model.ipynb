{
  "nbformat": 4,
  "nbformat_minor": 0,
  "metadata": {
    "colab": {
      "name": "Save and restore a model.ipynb",
      "version": "0.3.2",
      "provenance": []
    },
    "kernelspec": {
      "name": "python3",
      "display_name": "Python 3"
    },
    "accelerator": "GPU"
  },
  "cells": [
    {
      "cell_type": "markdown",
      "metadata": {
        "id": "view-in-github",
        "colab_type": "text"
      },
      "source": [
        "[View in Colaboratory](https://colab.research.google.com/github/gauravbansal98/Save-and-Restore-a-model-in-tensorflow/blob/master/Save_and_restore_a_model.ipynb)"
      ]
    },
    {
      "metadata": {
        "id": "P61dlS1Fv8OE",
        "colab_type": "code",
        "colab": {}
      },
      "cell_type": "code",
      "source": [
        "!apt-get install -y -qq software-properties-common python-software-properties module-init-tools\n",
        "!add-apt-repository -y ppa:alessandro-strada/ppa 2>&1 > /dev/null\n",
        "!apt-get update -qq 2>&1 > /dev/null\n",
        "!apt-get -y install -qq google-drive-ocamlfuse fuse\n",
        "from google.colab import auth\n",
        "auth.authenticate_user()\n",
        "from oauth2client.client import GoogleCredentials\n",
        "creds = GoogleCredentials.get_application_default()\n",
        "import getpass\n",
        "!google-drive-ocamlfuse -headless -id={creds.client_id} -secret={creds.client_secret} < /dev/null 2>&1 | grep URL\n",
        "vcode = getpass.getpass()\n",
        "!echo {vcode} | google-drive-ocamlfuse -headless -id={creds.client_id} -secret={creds.client_secret}"
      ],
      "execution_count": 0,
      "outputs": []
    },
    {
      "metadata": {
        "id": "PInJJ_Yv0Sgp",
        "colab_type": "code",
        "colab": {}
      },
      "cell_type": "code",
      "source": [
        "!mkdir -p drive\n",
        "!google-drive-ocamlfuse drive"
      ],
      "execution_count": 0,
      "outputs": []
    },
    {
      "metadata": {
        "id": "MXiZYsuD0Uje",
        "colab_type": "code",
        "colab": {}
      },
      "cell_type": "code",
      "source": [
        "import os\n",
        "import tensorflow as tf"
      ],
      "execution_count": 0,
      "outputs": []
    },
    {
      "metadata": {
        "id": "hXaWAnEP0pAr",
        "colab_type": "code",
        "colab": {}
      },
      "cell_type": "code",
      "source": [
        "from tensorflow.examples.tutorials.mnist import input_data\n",
        "mnist = input_data.read_data_sets(\"drive/Uploaded on github/mnist dataset using rnn\", one_hot = True)"
      ],
      "execution_count": 0,
      "outputs": []
    },
    {
      "metadata": {
        "id": "52zmzjXw5rby",
        "colab_type": "code",
        "colab": {}
      },
      "cell_type": "code",
      "source": [
        "from tensorflow.python.ops import rnn, rnn_cell\n",
        "tf.reset_default_graph()\n"
      ],
      "execution_count": 0,
      "outputs": []
    },
    {
      "metadata": {
        "id": "uQbfNpjt0ucL",
        "colab_type": "code",
        "colab": {}
      },
      "cell_type": "code",
      "source": [
        "rnn_size = 128\n",
        "no_of_nodes_in_output_layer = 10\n",
        "chunk_size = 56\n",
        "no_of_chunk = 14\n",
        "batch_size = 128\n",
        "hm_epochs = 1"
      ],
      "execution_count": 0,
      "outputs": []
    },
    {
      "metadata": {
        "id": "VflAwafR1hAK",
        "colab_type": "code",
        "colab": {}
      },
      "cell_type": "code",
      "source": [
        "x = tf.placeholder(dtype = tf.float32, shape = [None, no_of_chunk, chunk_size], name = 'input_labels')\n",
        "y = tf.placeholder(dtype = tf.float32, shape = [None, None], name = 'output_labels')"
      ],
      "execution_count": 0,
      "outputs": []
    },
    {
      "metadata": {
        "id": "tWn_PCxl1kmt",
        "colab_type": "code",
        "colab": {}
      },
      "cell_type": "code",
      "source": [
        "weights = { 'weights' : tf.Variable(tf.random_normal([rnn_size, no_of_nodes_in_output_layer])),\n",
        "           'biases' : tf.Variable(tf.random_normal([1, no_of_nodes_in_output_layer])) }"
      ],
      "execution_count": 0,
      "outputs": []
    },
    {
      "metadata": {
        "id": "iKk4uX982WjT",
        "colab_type": "code",
        "colab": {}
      },
      "cell_type": "code",
      "source": [
        "def recurrent_neural_network(x):\n",
        "  with tf.name_scope('Neural_Network'):\n",
        "    x = tf.transpose(x, [1,0,2])\n",
        "    x = tf.reshape(x, [-1, chunk_size])\n",
        "    x = tf.split(x, no_of_chunk, 0)\n",
        "    cell = tf.nn.rnn_cell.BasicLSTMCell(rnn_size, name = 'LSTM_CELL')\n",
        "    outputs, state = tf.nn.static_rnn(cell, x, dtype = tf.float32)\n",
        "\n",
        "    output = tf.add(tf.matmul(outputs[-1], weights['weights']), weights['biases'])\n",
        "    return output"
      ],
      "execution_count": 0,
      "outputs": []
    },
    {
      "metadata": {
        "id": "_A8fcP3z3lgk",
        "colab_type": "code",
        "colab": {
          "base_uri": "https://localhost:8080/",
          "height": 50
        },
        "outputId": "7d678f8d-7ec1-4ec3-ad07-d4fb8145aba7"
      },
      "cell_type": "code",
      "source": [
        "\n",
        "prediction = recurrent_neural_network(x)\n",
        "\n",
        "y_pred = tf.nn.softmax(prediction, name = \"y_pred\")\n",
        "\n",
        "cost = tf.reduce_mean(tf.nn.softmax_cross_entropy_with_logits(logits = prediction, labels = y), name = \"cost\")\n",
        "\n",
        "optimizer = tf.train.AdamOptimizer().minimize(cost)\n",
        "\n",
        "saver = tf.train.Saver()\n",
        "\n",
        "with tf.Session() as sess:\n",
        "  sess.run(tf.global_variables_initializer())\n",
        "\n",
        "  for i in range(hm_epochs):\n",
        "    epoch_loss = 0\n",
        "    for j in range(int(mnist.train.num_examples/batch_size)):\n",
        "      epoch_x, epoch_y = mnist.train.next_batch(batch_size)\n",
        "      epoch_x = epoch_x.reshape((batch_size,no_of_chunk,chunk_size))\n",
        "      o, c = sess.run([optimizer, cost], feed_dict = {x : epoch_x, y : epoch_y})\n",
        "      epoch_loss += c\n",
        "    print('epoch' , i, 'completed out of ', hm_epochs, 'loss ', epoch_loss)\n",
        "\n",
        "  saver.save(sess, './saved_model')\n",
        "  \n",
        "  correct = tf.equal(tf.argmax(prediction, 1), tf.argmax(y, 1))\n",
        "\n",
        "  \n",
        "  accuracy = tf.reduce_mean(tf.cast(correct, 'float'))\n",
        "\n",
        "  print('Accuracy:',accuracy.eval({x:mnist.test.images.reshape(-1,no_of_chunk,chunk_size), y:mnist.test.labels})) "
      ],
      "execution_count": 0,
      "outputs": [
        {
          "output_type": "stream",
          "text": [
            "epoch 0 completed out of  1 loss  230.11198671162128\n",
            "Accuracy: 0.9465\n"
          ],
          "name": "stdout"
        }
      ]
    },
    {
      "metadata": {
        "id": "eNvgPcNktlOJ",
        "colab_type": "code",
        "colab": {
          "base_uri": "https://localhost:8080/",
          "height": 67
        },
        "outputId": "e7c5bcec-6df5-4ee4-e36f-143460669bc4"
      },
      "cell_type": "code",
      "source": [
        "hm_epochs = 2\n",
        "\n",
        "batch_size = 128\n",
        "\n",
        "tf.reset_default_graph()\n",
        "\n",
        "sess = tf.Session()\n",
        "\n",
        "saver = tf.train.import_meta_graph('saved_model.meta')\n",
        "\n",
        "print(\"meta graph loaded\")\n",
        "\n",
        "saver.restore(sess, tf.train.latest_checkpoint('./'))\n",
        "\n",
        "graph = tf.get_default_graph()\n",
        "\n",
        "x = graph.get_tensor_by_name(\"input_labels:0\")\n",
        "\n",
        "y = graph.get_tensor_by_name(\"output_labels:0\")\n",
        "\n",
        "last_layer_output = graph.get_tensor_by_name(\"y_pred:0\")  \n",
        "\n",
        "correct = tf.equal(tf.argmax(last_layer_output, 1), tf.argmax(y, 1))\n",
        "  \n",
        "accuracy = tf.reduce_mean(tf.cast(correct, 'float'))\n",
        "\n",
        "print('Accuracy:',sess.run(accuracy, feed_dict = {x:mnist.test.images.reshape(-1,no_of_chunk,chunk_size), y:mnist.test.labels})) \n",
        "\n",
        "sess.close()"
      ],
      "execution_count": 0,
      "outputs": [
        {
          "output_type": "stream",
          "text": [
            "meta graph loaded\n",
            "INFO:tensorflow:Restoring parameters from ./saved_model\n",
            "Accuracy: 0.9465\n"
          ],
          "name": "stdout"
        }
      ]
    },
    {
      "metadata": {
        "id": "ewp5SLYHh6WK",
        "colab_type": "code",
        "colab": {}
      },
      "cell_type": "code",
      "source": [
        ""
      ],
      "execution_count": 0,
      "outputs": []
    }
  ]
}